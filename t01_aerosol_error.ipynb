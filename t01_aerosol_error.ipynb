{
 "cells": [
  {
   "cell_type": "markdown",
   "metadata": {},
   "source": [
    "## Retrieval uncertainties analysis "
   ]
  },
  {
   "cell_type": "markdown",
   "metadata": {},
   "source": [
    "Analyze the data from the following work on the aerosol properties for APS sensor:\n",
    "\n",
    "Knobelspiesse, K. D., B. Cairns, M. I. Mishchenko, J. Chowdhary, K. Tsigaridis,\n",
    "B. Van Diedenhoven, W. Martin, M. Ottaviani, and M. D. Alexandrov. 2012.\n",
    "\"Analysis of fine-mode aerosol retrieval capabilities by different passive\n",
    "remote sensing instrument designs.\" Opt. Express, 20 (19): 21,457-21,484\n",
    "[10.1364/OE.20.021457]"
   ]
  },
  {
   "cell_type": "code",
   "execution_count": 1,
   "metadata": {},
   "outputs": [],
   "source": [
    "import numpy as np\n",
    "%matplotlib inline\n",
    "import pandas as pd"
   ]
  },
  {
   "cell_type": "markdown",
   "metadata": {},
   "source": [
    "## pull the data"
   ]
  },
  {
   "cell_type": "code",
   "execution_count": 114,
   "metadata": {},
   "outputs": [
    {
     "name": "stdout",
     "output_type": "stream",
     "text": [
      "<class 'pandas.core.frame.DataFrame'>\n",
      "RangeIndex: 60 entries, 0 to 59\n",
      "Data columns (total 15 columns):\n",
      "Type            60 non-null object\n",
      "data            60 non-null object\n",
      "AOT_index       60 non-null int64\n",
      "AOT_f           60 non-null float64\n",
      "Rnidx_f         60 non-null float64\n",
      "Inidx_f         60 non-null float64\n",
      "Reff_f          60 non-null float64\n",
      "Veff_f          60 non-null float64\n",
      "AOT_c           60 non-null float64\n",
      "Rnidx_c         60 non-null float64\n",
      "Inidx_c         60 non-null float64\n",
      "Reff_c          60 non-null float64\n",
      "Veff_c          60 non-null float64\n",
      "AOT_t(555nm)    60 non-null float64\n",
      "SSA(555nm)      60 non-null float64\n",
      "dtypes: float64(12), int64(1), object(2)\n",
      "memory usage: 7.1+ KB\n"
     ]
    }
   ],
   "source": [
    "df1=pd.read_csv(\"./pd_tabulated_Knobelspiesse2012_values.txt\",delimiter=r\"\\s+\")\n",
    "df1.info()"
   ]
  },
  {
   "cell_type": "code",
   "execution_count": 115,
   "metadata": {},
   "outputs": [
    {
     "data": {
      "text/html": [
       "<div>\n",
       "<style scoped>\n",
       "    .dataframe tbody tr th:only-of-type {\n",
       "        vertical-align: middle;\n",
       "    }\n",
       "\n",
       "    .dataframe tbody tr th {\n",
       "        vertical-align: top;\n",
       "    }\n",
       "\n",
       "    .dataframe thead th {\n",
       "        text-align: right;\n",
       "    }\n",
       "</style>\n",
       "<table border=\"1\" class=\"dataframe\">\n",
       "  <thead>\n",
       "    <tr style=\"text-align: right;\">\n",
       "      <th></th>\n",
       "      <th>Type</th>\n",
       "      <th>data</th>\n",
       "      <th>AOT_index</th>\n",
       "      <th>AOT_f</th>\n",
       "      <th>Rnidx_f</th>\n",
       "      <th>Inidx_f</th>\n",
       "      <th>Reff_f</th>\n",
       "      <th>Veff_f</th>\n",
       "      <th>AOT_c</th>\n",
       "      <th>Rnidx_c</th>\n",
       "      <th>Inidx_c</th>\n",
       "      <th>Reff_c</th>\n",
       "      <th>Veff_c</th>\n",
       "      <th>AOT_t(555nm)</th>\n",
       "      <th>SSA(555nm)</th>\n",
       "    </tr>\n",
       "  </thead>\n",
       "  <tbody>\n",
       "    <tr>\n",
       "      <th>0</th>\n",
       "      <td>Amazonian</td>\n",
       "      <td>parameter</td>\n",
       "      <td>1</td>\n",
       "      <td>0.0351</td>\n",
       "      <td>1.47</td>\n",
       "      <td>0.001</td>\n",
       "      <td>0.176</td>\n",
       "      <td>0.174</td>\n",
       "      <td>0.0039</td>\n",
       "      <td>1.47</td>\n",
       "      <td>0.001</td>\n",
       "      <td>6.905</td>\n",
       "      <td>0.867</td>\n",
       "      <td>0.039</td>\n",
       "      <td>0.984889</td>\n",
       "    </tr>\n",
       "    <tr>\n",
       "      <th>1</th>\n",
       "      <td>Amazonian</td>\n",
       "      <td>parameter</td>\n",
       "      <td>2</td>\n",
       "      <td>0.0756</td>\n",
       "      <td>1.47</td>\n",
       "      <td>0.001</td>\n",
       "      <td>0.176</td>\n",
       "      <td>0.174</td>\n",
       "      <td>0.0084</td>\n",
       "      <td>1.47</td>\n",
       "      <td>0.001</td>\n",
       "      <td>6.905</td>\n",
       "      <td>0.867</td>\n",
       "      <td>0.084</td>\n",
       "      <td>0.984889</td>\n",
       "    </tr>\n",
       "    <tr>\n",
       "      <th>2</th>\n",
       "      <td>Amazonian</td>\n",
       "      <td>parameter</td>\n",
       "      <td>3</td>\n",
       "      <td>0.1107</td>\n",
       "      <td>1.47</td>\n",
       "      <td>0.001</td>\n",
       "      <td>0.176</td>\n",
       "      <td>0.174</td>\n",
       "      <td>0.0123</td>\n",
       "      <td>1.47</td>\n",
       "      <td>0.001</td>\n",
       "      <td>6.905</td>\n",
       "      <td>0.867</td>\n",
       "      <td>0.123</td>\n",
       "      <td>0.984889</td>\n",
       "    </tr>\n",
       "    <tr>\n",
       "      <th>3</th>\n",
       "      <td>Amazonian</td>\n",
       "      <td>parameter</td>\n",
       "      <td>4</td>\n",
       "      <td>0.1629</td>\n",
       "      <td>1.47</td>\n",
       "      <td>0.001</td>\n",
       "      <td>0.176</td>\n",
       "      <td>0.174</td>\n",
       "      <td>0.0181</td>\n",
       "      <td>1.47</td>\n",
       "      <td>0.001</td>\n",
       "      <td>6.905</td>\n",
       "      <td>0.867</td>\n",
       "      <td>0.181</td>\n",
       "      <td>0.984889</td>\n",
       "    </tr>\n",
       "    <tr>\n",
       "      <th>4</th>\n",
       "      <td>Amazonian</td>\n",
       "      <td>parameter</td>\n",
       "      <td>5</td>\n",
       "      <td>0.3114</td>\n",
       "      <td>1.47</td>\n",
       "      <td>0.001</td>\n",
       "      <td>0.176</td>\n",
       "      <td>0.174</td>\n",
       "      <td>0.0346</td>\n",
       "      <td>1.47</td>\n",
       "      <td>0.001</td>\n",
       "      <td>6.905</td>\n",
       "      <td>0.867</td>\n",
       "      <td>0.346</td>\n",
       "      <td>0.984889</td>\n",
       "    </tr>\n",
       "  </tbody>\n",
       "</table>\n",
       "</div>"
      ],
      "text/plain": [
       "        Type       data  AOT_index   AOT_f  Rnidx_f  Inidx_f  Reff_f  Veff_f  \\\n",
       "0  Amazonian  parameter          1  0.0351     1.47    0.001   0.176   0.174   \n",
       "1  Amazonian  parameter          2  0.0756     1.47    0.001   0.176   0.174   \n",
       "2  Amazonian  parameter          3  0.1107     1.47    0.001   0.176   0.174   \n",
       "3  Amazonian  parameter          4  0.1629     1.47    0.001   0.176   0.174   \n",
       "4  Amazonian  parameter          5  0.3114     1.47    0.001   0.176   0.174   \n",
       "\n",
       "    AOT_c  Rnidx_c  Inidx_c  Reff_c  Veff_c  AOT_t(555nm)  SSA(555nm)  \n",
       "0  0.0039     1.47    0.001   6.905   0.867         0.039    0.984889  \n",
       "1  0.0084     1.47    0.001   6.905   0.867         0.084    0.984889  \n",
       "2  0.0123     1.47    0.001   6.905   0.867         0.123    0.984889  \n",
       "3  0.0181     1.47    0.001   6.905   0.867         0.181    0.984889  \n",
       "4  0.0346     1.47    0.001   6.905   0.867         0.346    0.984889  "
      ]
     },
     "execution_count": 115,
     "metadata": {},
     "output_type": "execute_result"
    }
   ],
   "source": [
    "df1.head()"
   ]
  },
  {
   "cell_type": "code",
   "execution_count": 116,
   "metadata": {},
   "outputs": [
    {
     "data": {
      "text/plain": [
       "Greenbelt    10\n",
       "Maldives     10\n",
       "Paris        10\n",
       "Mexico       10\n",
       "Amazonian    10\n",
       "African      10\n",
       "Name: Type, dtype: int64"
      ]
     },
     "execution_count": 116,
     "metadata": {},
     "output_type": "execute_result"
    }
   ],
   "source": [
    "df1[\"Type\"].value_counts()"
   ]
  },
  {
   "cell_type": "code",
   "execution_count": 117,
   "metadata": {},
   "outputs": [
    {
     "data": {
      "text/plain": [
       "parameter      30\n",
       "uncertainty    30\n",
       "Name: data, dtype: int64"
      ]
     },
     "execution_count": 117,
     "metadata": {},
     "output_type": "execute_result"
    }
   ],
   "source": [
    "df1[\"data\"].value_counts()"
   ]
  },
  {
   "cell_type": "markdown",
   "metadata": {},
   "source": [
    "#aerosol types\n",
    "Amazonian Forest    o1AF_APS_H20_full.sav\n",
    "African Savanna     o1AS_APS_H20_full.sav\n",
    "Paris               o1CP_APS_H20_full.sav\n",
    "Greenbelt, MD       o1GS_APS_H20_full.sav\n",
    "Mexico City         o1MC_APS_H20_full.sav\n",
    "Maldives            o1MI_APS_H20_full.sav\n",
    "#shortname\n",
    "#aerosolv=[\"Amazonian\", \"African\", \"Paris\", \"Greenbelt\", \"Mexico\", \"Maldives\"]"
   ]
  },
  {
   "cell_type": "markdown",
   "metadata": {},
   "source": [
    "## The averaged uncertianties for each variables at AOT(555nm) of 0.039"
   ]
  },
  {
   "cell_type": "code",
   "execution_count": 132,
   "metadata": {},
   "outputs": [
    {
     "data": {
      "text/plain": [
       "0     0.039\n",
       "10    0.039\n",
       "20    0.039\n",
       "30    0.039\n",
       "40    0.039\n",
       "50    0.039\n",
       "Name: AOT_t(555nm), dtype: float64"
      ]
     },
     "execution_count": 132,
     "metadata": {},
     "output_type": "execute_result"
    }
   ],
   "source": [
    "df1.loc[(df1[\"AOT_index\"]==1) & ((df1[\"data\"]==\"parameter\"))][\"AOT_t(555nm)\"]"
   ]
  },
  {
   "cell_type": "code",
   "execution_count": 133,
   "metadata": {},
   "outputs": [
    {
     "data": {
      "text/html": [
       "<div>\n",
       "<style scoped>\n",
       "    .dataframe tbody tr th:only-of-type {\n",
       "        vertical-align: middle;\n",
       "    }\n",
       "\n",
       "    .dataframe tbody tr th {\n",
       "        vertical-align: top;\n",
       "    }\n",
       "\n",
       "    .dataframe thead th {\n",
       "        text-align: right;\n",
       "    }\n",
       "</style>\n",
       "<table border=\"1\" class=\"dataframe\">\n",
       "  <thead>\n",
       "    <tr style=\"text-align: right;\">\n",
       "      <th></th>\n",
       "      <th>Type</th>\n",
       "      <th>data</th>\n",
       "      <th>AOT_index</th>\n",
       "      <th>AOT_f</th>\n",
       "      <th>Rnidx_f</th>\n",
       "      <th>Inidx_f</th>\n",
       "      <th>Reff_f</th>\n",
       "      <th>Veff_f</th>\n",
       "      <th>AOT_c</th>\n",
       "      <th>Rnidx_c</th>\n",
       "      <th>Inidx_c</th>\n",
       "      <th>Reff_c</th>\n",
       "      <th>Veff_c</th>\n",
       "      <th>AOT_t(555nm)</th>\n",
       "      <th>SSA(555nm)</th>\n",
       "    </tr>\n",
       "  </thead>\n",
       "  <tbody>\n",
       "    <tr>\n",
       "      <th>5</th>\n",
       "      <td>Amazonian</td>\n",
       "      <td>uncertainty</td>\n",
       "      <td>1</td>\n",
       "      <td>0.004132</td>\n",
       "      <td>0.015486</td>\n",
       "      <td>0.003363</td>\n",
       "      <td>0.005511</td>\n",
       "      <td>0.017743</td>\n",
       "      <td>0.001367</td>\n",
       "      <td>0.021972</td>\n",
       "      <td>0.001443</td>\n",
       "      <td>1.236500</td>\n",
       "      <td>0.184589</td>\n",
       "      <td>0.004208</td>\n",
       "      <td>0.030137</td>\n",
       "    </tr>\n",
       "    <tr>\n",
       "      <th>15</th>\n",
       "      <td>African</td>\n",
       "      <td>uncertainty</td>\n",
       "      <td>1</td>\n",
       "      <td>0.004422</td>\n",
       "      <td>0.019229</td>\n",
       "      <td>0.002271</td>\n",
       "      <td>0.006132</td>\n",
       "      <td>0.016371</td>\n",
       "      <td>0.001747</td>\n",
       "      <td>0.055712</td>\n",
       "      <td>0.007723</td>\n",
       "      <td>1.230298</td>\n",
       "      <td>0.184773</td>\n",
       "      <td>0.004510</td>\n",
       "      <td>0.019271</td>\n",
       "    </tr>\n",
       "    <tr>\n",
       "      <th>25</th>\n",
       "      <td>Paris</td>\n",
       "      <td>uncertainty</td>\n",
       "      <td>1</td>\n",
       "      <td>0.004941</td>\n",
       "      <td>0.013990</td>\n",
       "      <td>0.003928</td>\n",
       "      <td>0.005509</td>\n",
       "      <td>0.025944</td>\n",
       "      <td>0.001770</td>\n",
       "      <td>0.020740</td>\n",
       "      <td>0.004835</td>\n",
       "      <td>1.253546</td>\n",
       "      <td>0.187282</td>\n",
       "      <td>0.005166</td>\n",
       "      <td>0.021734</td>\n",
       "    </tr>\n",
       "    <tr>\n",
       "      <th>35</th>\n",
       "      <td>Greenbelt</td>\n",
       "      <td>uncertainty</td>\n",
       "      <td>1</td>\n",
       "      <td>0.003502</td>\n",
       "      <td>0.013909</td>\n",
       "      <td>0.002318</td>\n",
       "      <td>0.004085</td>\n",
       "      <td>0.018718</td>\n",
       "      <td>0.001474</td>\n",
       "      <td>0.013555</td>\n",
       "      <td>0.001466</td>\n",
       "      <td>0.633946</td>\n",
       "      <td>0.186022</td>\n",
       "      <td>0.003775</td>\n",
       "      <td>0.020359</td>\n",
       "    </tr>\n",
       "    <tr>\n",
       "      <th>45</th>\n",
       "      <td>Mexico</td>\n",
       "      <td>uncertainty</td>\n",
       "      <td>1</td>\n",
       "      <td>0.004682</td>\n",
       "      <td>0.017620</td>\n",
       "      <td>0.004168</td>\n",
       "      <td>0.005893</td>\n",
       "      <td>0.021440</td>\n",
       "      <td>0.001559</td>\n",
       "      <td>0.033092</td>\n",
       "      <td>0.008753</td>\n",
       "      <td>1.129151</td>\n",
       "      <td>0.181704</td>\n",
       "      <td>0.004808</td>\n",
       "      <td>0.021426</td>\n",
       "    </tr>\n",
       "    <tr>\n",
       "      <th>55</th>\n",
       "      <td>Maldives</td>\n",
       "      <td>uncertainty</td>\n",
       "      <td>1</td>\n",
       "      <td>0.005553</td>\n",
       "      <td>0.011221</td>\n",
       "      <td>0.003898</td>\n",
       "      <td>0.007627</td>\n",
       "      <td>0.032880</td>\n",
       "      <td>0.001891</td>\n",
       "      <td>0.023466</td>\n",
       "      <td>0.006759</td>\n",
       "      <td>1.239916</td>\n",
       "      <td>0.187881</td>\n",
       "      <td>0.005864</td>\n",
       "      <td>0.019587</td>\n",
       "    </tr>\n",
       "  </tbody>\n",
       "</table>\n",
       "</div>"
      ],
      "text/plain": [
       "         Type         data  AOT_index     AOT_f   Rnidx_f   Inidx_f    Reff_f  \\\n",
       "5   Amazonian  uncertainty          1  0.004132  0.015486  0.003363  0.005511   \n",
       "15    African  uncertainty          1  0.004422  0.019229  0.002271  0.006132   \n",
       "25      Paris  uncertainty          1  0.004941  0.013990  0.003928  0.005509   \n",
       "35  Greenbelt  uncertainty          1  0.003502  0.013909  0.002318  0.004085   \n",
       "45     Mexico  uncertainty          1  0.004682  0.017620  0.004168  0.005893   \n",
       "55   Maldives  uncertainty          1  0.005553  0.011221  0.003898  0.007627   \n",
       "\n",
       "      Veff_f     AOT_c   Rnidx_c   Inidx_c    Reff_c    Veff_c  AOT_t(555nm)  \\\n",
       "5   0.017743  0.001367  0.021972  0.001443  1.236500  0.184589      0.004208   \n",
       "15  0.016371  0.001747  0.055712  0.007723  1.230298  0.184773      0.004510   \n",
       "25  0.025944  0.001770  0.020740  0.004835  1.253546  0.187282      0.005166   \n",
       "35  0.018718  0.001474  0.013555  0.001466  0.633946  0.186022      0.003775   \n",
       "45  0.021440  0.001559  0.033092  0.008753  1.129151  0.181704      0.004808   \n",
       "55  0.032880  0.001891  0.023466  0.006759  1.239916  0.187881      0.005864   \n",
       "\n",
       "    SSA(555nm)  \n",
       "5     0.030137  \n",
       "15    0.019271  \n",
       "25    0.021734  \n",
       "35    0.020359  \n",
       "45    0.021426  \n",
       "55    0.019587  "
      ]
     },
     "execution_count": 133,
     "metadata": {},
     "output_type": "execute_result"
    }
   ],
   "source": [
    "#short name for aerosol types\n",
    "df2=df1.loc[df1[\"AOT_index\"]==1 & (df1[\"data\"]==\"uncertainty\")]\n",
    "df2"
   ]
  },
  {
   "cell_type": "code",
   "execution_count": 134,
   "metadata": {},
   "outputs": [
    {
     "data": {
      "text/plain": [
       "AOT_index       1.000000\n",
       "AOT_f           0.004539\n",
       "Rnidx_f         0.015242\n",
       "Inidx_f         0.003324\n",
       "Reff_f          0.005793\n",
       "Veff_f          0.022183\n",
       "AOT_c           0.001635\n",
       "Rnidx_c         0.028089\n",
       "Inidx_c         0.005163\n",
       "Reff_c          1.120560\n",
       "Veff_c          0.185375\n",
       "AOT_t(555nm)    0.004722\n",
       "SSA(555nm)      0.022086\n",
       "dtype: float64"
      ]
     },
     "execution_count": 134,
     "metadata": {},
     "output_type": "execute_result"
    }
   ],
   "source": [
    "df2.mean()"
   ]
  },
  {
   "cell_type": "code",
   "execution_count": null,
   "metadata": {},
   "outputs": [],
   "source": []
  }
 ],
 "metadata": {
  "kernelspec": {
   "display_name": "Python 3",
   "language": "python",
   "name": "python3"
  },
  "language_info": {
   "codemirror_mode": {
    "name": "ipython",
    "version": 3
   },
   "file_extension": ".py",
   "mimetype": "text/x-python",
   "name": "python",
   "nbconvert_exporter": "python",
   "pygments_lexer": "ipython3",
   "version": "3.6.8"
  }
 },
 "nbformat": 4,
 "nbformat_minor": 2
}
